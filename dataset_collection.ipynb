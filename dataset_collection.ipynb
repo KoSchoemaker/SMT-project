{
 "cells": [
  {
   "cell_type": "code",
   "execution_count": null,
   "id": "40ce1360",
   "metadata": {},
   "outputs": [],
   "source": [
    "import yt_dlp as yt\n",
    "import pandas as pd"
   ]
  },
  {
   "cell_type": "code",
   "execution_count": null,
   "id": "7003585e",
   "metadata": {},
   "outputs": [],
   "source": [
    "def is_spotify_url(url):\n",
    "    if 'spotify' in url:\n",
    "        return True\n",
    "    return False\n",
    "\n",
    "def get_query(row):\n",
    "    return f\"{row['Artist']} - {row['Title']} lyrics\"\n",
    "\n",
    "def download(dir_name, row):\n",
    "    video_info = yt.YoutubeDL().extract_info(\n",
    "        url = row[\"Link\"],\n",
    "        download=False\n",
    "    )\n",
    "    options={\n",
    "        'format':'bestaudio/best',\n",
    "        'keepvideo':False,\n",
    "        'outtmpl':f\"{dir_name}/{row['Artist']} - {row['Title']}.mp3\",\n",
    "    }\n",
    "\n",
    "    with yt.YoutubeDL(options) as ydl:\n",
    "        ydl.download([video_info['webpage_url']])\n",
    "        \n",
    "def download_first_result(dir_name, row, query):\n",
    "    video_info = yt.YoutubeDL().extract_info(\n",
    "        f\"ytsearch:{query}\",\n",
    "        download=False\n",
    "    )\n",
    "    options={\n",
    "        'format':'bestaudio/best',\n",
    "        'keepvideo':False,\n",
    "        'outtmpl':f\"{dir_name}/{row['Artist']} - {row['Title']}.mp3\",\n",
    "    }\n",
    "\n",
    "    with yt.YoutubeDL(options) as ydl:\n",
    "        ydl.download([video_info['entries'][0]['webpage_url']])\n",
    "        \n",
    "def run(excel_name, dir_name):\n",
    "    df = pd.read_excel(excel_name)\n",
    "    for row in df.iterrows():\n",
    "        url = row[1][\"Link\"]\n",
    "        if is_spotify_url(url) or pd.isna(url):\n",
    "            if pd.isna(row[1]['Artist']) or pd.isna(row[1]['Title']):\n",
    "                continue\n",
    "            query = get_query(row[1])\n",
    "            download_first_result(dir_name, row[1], query)\n",
    "        else:\n",
    "            download(dir_name, row[1])"
   ]
  },
  {
   "cell_type": "code",
   "execution_count": null,
   "id": "a930133c",
   "metadata": {},
   "outputs": [],
   "source": [
    "run(\"sad.xlsx\", \"sad\")"
   ]
  },
  {
   "cell_type": "code",
   "execution_count": null,
   "id": "cf316a1d",
   "metadata": {},
   "outputs": [],
   "source": [
    "run(\"happy.xlsx\", \"happy\")"
   ]
  }
 ],
 "metadata": {
  "kernelspec": {
   "display_name": "Python 3 (ipykernel)",
   "language": "python",
   "name": "python3"
  },
  "language_info": {
   "codemirror_mode": {
    "name": "ipython",
    "version": 3
   },
   "file_extension": ".py",
   "mimetype": "text/x-python",
   "name": "python",
   "nbconvert_exporter": "python",
   "pygments_lexer": "ipython3",
   "version": "3.8.2"
  }
 },
 "nbformat": 4,
 "nbformat_minor": 5
}
