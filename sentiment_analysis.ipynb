{
 "cells": [
  {
   "cell_type": "code",
   "execution_count": null,
   "id": "20f72f56",
   "metadata": {},
   "outputs": [],
   "source": [
    "import spotipy\n",
    "from spotipy.oauth2 import SpotifyClientCredentials\n",
    "import lyricsgenius\n",
    "from textblob import TextBlob\n",
    "from tqdm import tqdm\n",
    "from concurrent.futures import ThreadPoolExecutor\n",
    "import csv\n",
    "import os\n",
    "from dotenv import load_dotenv"
   ]
  },
  {
   "cell_type": "code",
   "execution_count": null,
   "id": "d0dbee56",
   "metadata": {},
   "outputs": [],
   "source": [
    "# Load environment variables from .env\n",
    "load_dotenv()\n",
    "\n",
    "# Set up your Spotify API credentials\n",
    "SPOTIPY_CLIENT_ID = os.getenv('SPOTIPY_CLIENT_ID')\n",
    "SPOTIPY_CLIENT_SECRET = os.getenv('SPOTIPY_CLIENT_SECRET')\n",
    "\n",
    "# Set up your Genius API credentials\n",
    "GENIUS_ACCESS_TOKEN = os.getenv('GENIUS_ACCESS_TOKEN')"
   ]
  },
  {
   "cell_type": "code",
   "execution_count": null,
   "id": "b3d47f56",
   "metadata": {},
   "outputs": [],
   "source": [
    "# Set up Spotify API authentication\n",
    "sp = spotipy.Spotify(auth_manager=SpotifyClientCredentials(client_id=SPOTIPY_CLIENT_ID, client_secret=SPOTIPY_CLIENT_SECRET))\n",
    "\n",
    "# Set up Genius API authentication\n",
    "genius = lyricsgenius.Genius(GENIUS_ACCESS_TOKEN)"
   ]
  },
  {
   "cell_type": "code",
   "execution_count": null,
   "id": "47c0491b",
   "metadata": {},
   "outputs": [],
   "source": [
    "def get_lyrics(track_name, artist_name):\n",
    "    # Search for lyrics using Genius API\n",
    "    song = genius.search_song(title=track_name, artist=artist_name)\n",
    "    if song:\n",
    "        return song.lyrics\n",
    "    else:\n",
    "        return None\n",
    "\n",
    "def analyze_sentiment(lyrics):\n",
    "    # Analyze sentiment using TextBlob\n",
    "    blob = TextBlob(lyrics)\n",
    "    sentiment = blob.sentiment.polarity\n",
    "    return sentiment\n",
    "\n",
    "def analyze_track(track):\n",
    "    try:\n",
    "        track_name = track['track']['name']\n",
    "        artist_name = track['track']['artists'][0]['name']\n",
    "\n",
    "        # Get lyrics for the current track\n",
    "        lyrics = get_lyrics(track_name, artist_name)\n",
    "\n",
    "        if lyrics:\n",
    "            # Analyze sentiment\n",
    "            sentiment = analyze_sentiment(lyrics)\n",
    "\n",
    "            return {\n",
    "                'track_name': track_name,\n",
    "                'artist_name': artist_name,\n",
    "                'sentiment': sentiment\n",
    "            }\n",
    "    except Exception as e:\n",
    "        print(f\"Something went wrong: {e}\")\n",
    "        return None\n",
    "\n",
    "def analyze_playlist(playlist_uri):\n",
    "    # Get playlist details from Spotify\n",
    "    playlist = sp.playlist_tracks(playlist_uri)\n",
    "    \n",
    "    # List to store results\n",
    "    results = []\n",
    "\n",
    "    with ThreadPoolExecutor() as executor:\n",
    "        # Use tqdm to create a progress bar\n",
    "        for result in tqdm(executor.map(analyze_track, playlist['items']), total=len(playlist['items']), desc='Analyzing'):\n",
    "            if result:\n",
    "                results.append(result)\n",
    "\n",
    "    # Sort results based on sentiment\n",
    "    sorted_results = sorted(results, key=lambda x: x['sentiment'], reverse=True)\n",
    "\n",
    "    # Print sorted results\n",
    "    for result in sorted_results:\n",
    "        print(f\"Track: {result['track_name']} - Artist: {result['artist_name']}\")\n",
    "        print(f\"Sentiment: {result['sentiment']}\")\n",
    "        print(\"-\" * 30)\n",
    "\n",
    "    return sorted_results"
   ]
  },
  {
   "cell_type": "code",
   "execution_count": null,
   "id": "8ccec978",
   "metadata": {},
   "outputs": [],
   "source": [
    "# run for a specific playlist\n",
    "playlist_uri = 'https://open.spotify.com/playlist/1hblPa5R3QgJGWoazGIbWG?si=e9214b8bbe374cfa'\n",
    "results = analyze_playlist(playlist_uri)"
   ]
  },
  {
   "cell_type": "code",
   "execution_count": null,
   "id": "ca704627",
   "metadata": {},
   "outputs": [],
   "source": [
    "# Print and write sorted results to CSV\n",
    "folder_name = 'sentiment_analysis'\n",
    "os.makedirs(folder_name, exist_ok=True)\n",
    "\n",
    "playlist_name = sp.playlist(playlist_uri)['name']\n",
    "csv_filename = os.path.join(folder_name, f\"{playlist_name}_sentiment.csv\")\n",
    "\n",
    "with open(csv_filename, 'w', newline='', encoding='utf-8') as csvfile:\n",
    "    fieldnames = ['track_name', 'artist_name', 'sentiment']\n",
    "    writer = csv.DictWriter(csvfile, fieldnames=fieldnames)\n",
    "\n",
    "    writer.writeheader()\n",
    "    for result in results:\n",
    "        writer.writerow(result)\n",
    "\n",
    "print(f\"Results written to {csv_filename}\")"
   ]
  }
 ],
 "metadata": {
  "kernelspec": {
   "display_name": "Python 3 (ipykernel)",
   "language": "python",
   "name": "python3"
  },
  "language_info": {
   "codemirror_mode": {
    "name": "ipython",
    "version": 3
   },
   "file_extension": ".py",
   "mimetype": "text/x-python",
   "name": "python",
   "nbconvert_exporter": "python",
   "pygments_lexer": "ipython3",
   "version": "3.10.7"
  }
 },
 "nbformat": 4,
 "nbformat_minor": 5
}
