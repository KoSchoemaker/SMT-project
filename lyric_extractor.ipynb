{
 "cells": [
  {
   "cell_type": "code",
   "execution_count": null,
   "id": "ebf5690a",
   "metadata": {},
   "outputs": [],
   "source": [
    "from lyricsgenius import Genius\n",
    "import pandas as pd"
   ]
  },
  {
   "cell_type": "code",
   "execution_count": null,
   "id": "41aeb0a0",
   "metadata": {},
   "outputs": [],
   "source": [
    "token = 'hDlQGufqaXIrxGYHI-5cMaJ0KgIu8qFReXHZSeAjJSQFPXqYjtAFrR_3DRc4ttKO'\n",
    "genius = Genius(token)"
   ]
  },
  {
   "cell_type": "code",
   "execution_count": null,
   "id": "460da74f",
   "metadata": {},
   "outputs": [],
   "source": [
    "def run(excel_name, dir_name):\n",
    "    df = pd.read_excel(excel_name)\n",
    "    for row in df.iterrows():\n",
    "        song = genius.search_song(row[1]['Title'], row[1]['Artist'], get_full_info=False)\n",
    "        file_name = f\"{dir_name}/{row[1]['Artist']} - {row[1]['Title']}.txt\"\n",
    "        with open(file_name, 'w') as file:\n",
    "            file.write(song)"
   ]
  },
  {
   "cell_type": "code",
   "execution_count": null,
   "id": "fc828161",
   "metadata": {},
   "outputs": [],
   "source": [
    "run(\"sad.xlsx\", \"sad\")"
   ]
  },
  {
   "cell_type": "code",
   "execution_count": null,
   "id": "c5cb13bf",
   "metadata": {},
   "outputs": [],
   "source": [
    "run(\"happy.xlsx\", \"happy\")"
   ]
  }
 ],
 "metadata": {
  "kernelspec": {
   "display_name": "Python 3 (ipykernel)",
   "language": "python",
   "name": "python3"
  },
  "language_info": {
   "codemirror_mode": {
    "name": "ipython",
    "version": 3
   },
   "file_extension": ".py",
   "mimetype": "text/x-python",
   "name": "python",
   "nbconvert_exporter": "python",
   "pygments_lexer": "ipython3",
   "version": "3.8.2"
  }
 },
 "nbformat": 4,
 "nbformat_minor": 5
}
